{
 "cells": [
  {
   "cell_type": "markdown",
   "id": "500decee-7ce5-48f7-8e47-8368b450132f",
   "metadata": {},
   "source": [
    "### Koneksi OLTP\n",
    "1. membuat koneksi dari Dbeaver ke Database OLTP\n",
    "2. Pastikan koneksi database ke OLTP tersambung\n",
    "3. Pastikan dapat mengakses tabel didalam Database OLTP\n",
    "4. Pastikan telah memahami ERD Database OLTP\n",
    "\n",
    "### Design ERD Data Warehouse (DWH/OLAP)\n",
    "1. Pastikan telah memahami Business Requirements sebelum membuat ERD DWH\n",
    "2. Membuat ERD DWH terdiri dari Fact Table & Dimensional Table\n",
    "3. Membuat DDL ERD DWH\n",
    "4. Membuat DDL Data Mart di dalam DWH (jika diperlukan)\n",
    "\n",
    "### Buat database baru namun ganti DB credentialnya\n",
    "1. IP : 34.124.167.39\n",
    "2. USER : ftde04\n",
    "3. PWD : ftde04!@#\n",
    "4. DB : project1\n"
   ]
  },
  {
   "cell_type": "markdown",
   "id": "df264cf0-5e24-4d19-bccd-de7acda41c16",
   "metadata": {},
   "source": [
    "## Load Library"
   ]
  },
  {
   "cell_type": "code",
   "execution_count": 2,
   "id": "2a088629-ebce-4ac0-9f71-1bfd5afcf7d8",
   "metadata": {},
   "outputs": [],
   "source": [
    "import pandas as pd\n",
    "import sqlalchemy as sa\n",
    "\n",
    "from config import oltp_conn_string\n",
    "from config import warehouse_conn_string\n",
    "\n",
    "from config import oltp_tables, warehouse_tables, warehouse_tables_columns"
   ]
  },
  {
   "cell_type": "markdown",
   "id": "af79380a-9f8f-4cf5-99d1-0fc85a7e5a86",
   "metadata": {},
   "source": [
    "## Function ETL"
   ]
  },
  {
   "cell_type": "markdown",
   "id": "64d068c1-385a-41b2-bb9d-842d5083972a",
   "metadata": {},
   "source": [
    "### Extract"
   ]
  },
  {
   "cell_type": "code",
   "execution_count": null,
   "id": "15ccd73c-ebb7-46e3-a365-1a136130f081",
   "metadata": {},
   "outputs": [],
   "source": [
    "conn = oltp_conn_string\n",
    "\n",
    "sa.create_engine(oltp_conn_string)"
   ]
  }
 ],
 "metadata": {
  "kernelspec": {
   "display_name": "Python 3",
   "language": "python",
   "name": "python3"
  },
  "language_info": {
   "codemirror_mode": {
    "name": "ipython",
    "version": 3
   },
   "file_extension": ".py",
   "mimetype": "text/x-python",
   "name": "python",
   "nbconvert_exporter": "python",
   "pygments_lexer": "ipython3",
   "version": "3.8.8"
  }
 },
 "nbformat": 4,
 "nbformat_minor": 5
}
