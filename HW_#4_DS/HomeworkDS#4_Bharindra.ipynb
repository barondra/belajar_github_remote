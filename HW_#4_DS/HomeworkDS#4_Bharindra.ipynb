{
 "cells": [
  {
   "cell_type": "markdown",
   "metadata": {},
   "source": [
    "# Homework 4 - Exploring Dataframe\n",
    "### Created by Bharindra Kamanditya"
   ]
  },
  {
   "cell_type": "markdown",
   "metadata": {},
   "source": [
    "Diberikan sebuah dataset “cust_seg.csv” terkait kampanye penggunaan kartu kredit di sebuah Bank. \n",
    "Berikut adalah keterangan setiap kolom dalam dataset tersebut: \n",
    "\n",
    "    1. custid = customer ID \n",
    "    2. sex = Jenis Kelamin {0: Laki-laki, 1: Perempuan} \n",
    "    3. AqChannel = kode Acquisition Channels \n",
    "    4. region = Kode wilayah tempat tinggal \n",
    "    5. marital status = status pernikahan {1: Single, 2: Menikah} \n",
    "    6. segment = Kode segmen/kategori pada nasabah \n",
    "    7. pre_usage = penggunaan kartu kredit sebelum campaign \n",
    "    8. Post_usage_1month = penggunaan kartu kredit 1 bulan setelah campaign \n",
    "    9. Latest_mon_usage = penggunaan kartu kredit 1 bulan terakhir \n",
    "    10. post_usage_2ndmonth = penggunaan kartu kredit 2 bulan setelah campaign \n",
    "\n",
    "Petunjuk Pengerjaan: \n",
    "\n",
    "    • Tuliskan H0 dan H1 dari masing-masing kasus di No. 2 dan No. 3. \n",
    "    • Tuliskan kesimpulan hasi uji hipotesis untuk setiap kasus di No. 2 dan No.3. \n",
    "    • Gunakan nilai alpha 0.05. \n",
    "    • Implementasikan uji hipotesis menggunakan fungsi yang ada pada library scipy. \n",
    "    • Tuliskan penjelasan/keterangan/asumsi yang Anda gunakan di Google Colab. \n",
    "    • Kumpulkan jawaban dalam bentuk Google Colab, dan pastikan aksesnya dibuat public. \n",
    "    • Dilarang melakukan tindakan plagiarisme. Tindakan plagiarisme yang terbukti mengakibatkan Homework akan dinilai 0 (nol)."
   ]
  },
  {
   "cell_type": "markdown",
   "metadata": {},
   "source": [
    "## Import Libraries"
   ]
  },
  {
   "cell_type": "code",
   "execution_count": 1,
   "metadata": {},
   "outputs": [],
   "source": [
    "import pandas as pd\n",
    "import numpy as np\n",
    "import matplotlib.pyplot as plt\n",
    "from scipy import stats\n"
   ]
  },
  {
   "cell_type": "code",
   "execution_count": 2,
   "metadata": {},
   "outputs": [],
   "source": [
    "df_customer = pd.read_csv('Homework 4 - Advanced Statistics.csv')"
   ]
  },
  {
   "cell_type": "code",
   "execution_count": 3,
   "metadata": {},
   "outputs": [
    {
     "data": {
      "application/vnd.microsoft.datawrangler.viewer.v0+json": {
       "columns": [
        {
         "name": "index",
         "rawType": "int64",
         "type": "integer"
        },
        {
         "name": "custid",
         "rawType": "int64",
         "type": "integer"
        },
        {
         "name": "sex",
         "rawType": "int64",
         "type": "integer"
        },
        {
         "name": "AqChannel",
         "rawType": "int64",
         "type": "integer"
        },
        {
         "name": "region",
         "rawType": "int64",
         "type": "integer"
        },
        {
         "name": "Marital_status",
         "rawType": "int64",
         "type": "integer"
        },
        {
         "name": "segment",
         "rawType": "int64",
         "type": "integer"
        },
        {
         "name": "pre_usage",
         "rawType": "int64",
         "type": "integer"
        },
        {
         "name": "Post_usage_1month",
         "rawType": "int64",
         "type": "integer"
        },
        {
         "name": "Latest_mon_usage",
         "rawType": "float64",
         "type": "float"
        },
        {
         "name": "post_usage_2ndmonth",
         "rawType": "float64",
         "type": "float"
        }
       ],
       "conversionMethod": "pd.DataFrame",
       "ref": "6014e3eb-cf01-4d5c-8ccd-9c84ffd5fc29",
       "rows": [
        [
         "0",
         "70",
         "0",
         "4",
         "1",
         "1",
         "1",
         "57",
         "52",
         "49.2",
         "57.2"
        ],
        [
         "1",
         "121",
         "1",
         "4",
         "2",
         "1",
         "3",
         "68",
         "59",
         "63.6",
         "64.9"
        ],
        [
         "2",
         "86",
         "0",
         "4",
         "3",
         "1",
         "1",
         "44",
         "33",
         "64.8",
         "36.3"
        ],
        [
         "3",
         "141",
         "0",
         "4",
         "3",
         "1",
         "3",
         "63",
         "44",
         "56.4",
         "48.4"
        ],
        [
         "4",
         "172",
         "0",
         "4",
         "2",
         "1",
         "2",
         "47",
         "52",
         "68.4",
         "57.2"
        ],
        [
         "5",
         "113",
         "0",
         "4",
         "2",
         "1",
         "2",
         "44",
         "52",
         "61.2",
         "57.2"
        ],
        [
         "6",
         "50",
         "0",
         "3",
         "2",
         "1",
         "1",
         "50",
         "59",
         "50.4",
         "64.9"
        ],
        [
         "7",
         "11",
         "0",
         "1",
         "2",
         "1",
         "2",
         "34",
         "46",
         "54.0",
         "50.6"
        ],
        [
         "8",
         "84",
         "0",
         "4",
         "2",
         "1",
         "1",
         "63",
         "57",
         "64.8",
         "62.7"
        ],
        [
         "9",
         "48",
         "0",
         "3",
         "2",
         "1",
         "2",
         "57",
         "55",
         "62.4",
         "60.5"
        ],
        [
         "10",
         "75",
         "0",
         "4",
         "2",
         "1",
         "3",
         "60",
         "46",
         "61.2",
         "50.6"
        ],
        [
         "11",
         "60",
         "0",
         "4",
         "2",
         "1",
         "2",
         "57",
         "65",
         "61.2",
         "71.5"
        ],
        [
         "12",
         "95",
         "0",
         "4",
         "3",
         "1",
         "2",
         "73",
         "60",
         "85.2",
         "66.0"
        ],
        [
         "13",
         "104",
         "0",
         "4",
         "3",
         "1",
         "2",
         "54",
         "63",
         "68.4",
         "69.3"
        ],
        [
         "14",
         "38",
         "0",
         "3",
         "1",
         "1",
         "2",
         "45",
         "57",
         "60.0",
         "62.7"
        ],
        [
         "15",
         "115",
         "0",
         "4",
         "1",
         "1",
         "1",
         "42",
         "49",
         "51.6",
         "53.9"
        ],
        [
         "16",
         "76",
         "0",
         "4",
         "3",
         "1",
         "2",
         "47",
         "52",
         "61.2",
         "57.2"
        ],
        [
         "17",
         "195",
         "0",
         "4",
         "2",
         "2",
         "1",
         "57",
         "57",
         "72.0",
         "62.7"
        ],
        [
         "18",
         "114",
         "0",
         "4",
         "3",
         "1",
         "2",
         "68",
         "65",
         "74.4",
         "71.5"
        ],
        [
         "19",
         "85",
         "0",
         "4",
         "2",
         "1",
         "1",
         "55",
         "39",
         "68.4",
         "42.9"
        ],
        [
         "20",
         "167",
         "0",
         "4",
         "2",
         "1",
         "1",
         "63",
         "49",
         "42.0",
         "53.9"
        ],
        [
         "21",
         "143",
         "0",
         "4",
         "2",
         "1",
         "3",
         "63",
         "63",
         "90.0",
         "69.3"
        ],
        [
         "22",
         "41",
         "0",
         "3",
         "2",
         "1",
         "2",
         "50",
         "40",
         "54.0",
         "44.0"
        ],
        [
         "23",
         "20",
         "0",
         "1",
         "3",
         "1",
         "2",
         "60",
         "52",
         "68.4",
         "57.2"
        ],
        [
         "24",
         "12",
         "0",
         "1",
         "2",
         "1",
         "3",
         "37",
         "44",
         "54.0",
         "48.4"
        ],
        [
         "25",
         "53",
         "0",
         "3",
         "2",
         "1",
         "3",
         "34",
         "37",
         "55.2",
         "40.7"
        ],
        [
         "26",
         "154",
         "0",
         "4",
         "3",
         "1",
         "2",
         "65",
         "65",
         "79.2",
         "71.5"
        ],
        [
         "27",
         "178",
         "0",
         "4",
         "2",
         "2",
         "3",
         "47",
         "57",
         "68.4",
         "62.7"
        ],
        [
         "28",
         "196",
         "0",
         "4",
         "3",
         "2",
         "2",
         "44",
         "38",
         "58.8",
         "41.8"
        ],
        [
         "29",
         "29",
         "0",
         "2",
         "1",
         "1",
         "1",
         "52",
         "44",
         "58.8",
         "48.4"
        ],
        [
         "30",
         "126",
         "0",
         "4",
         "2",
         "1",
         "1",
         "42",
         "31",
         "68.4",
         "34.1"
        ],
        [
         "31",
         "103",
         "0",
         "4",
         "3",
         "1",
         "2",
         "76",
         "52",
         "76.8",
         "57.2"
        ],
        [
         "32",
         "192",
         "0",
         "4",
         "3",
         "2",
         "2",
         "65",
         "67",
         "75.6",
         "73.7"
        ],
        [
         "33",
         "150",
         "0",
         "4",
         "2",
         "1",
         "3",
         "42",
         "41",
         "68.4",
         "45.1"
        ],
        [
         "34",
         "199",
         "0",
         "4",
         "3",
         "2",
         "2",
         "52",
         "59",
         "60.0",
         "64.9"
        ],
        [
         "35",
         "144",
         "0",
         "4",
         "3",
         "1",
         "1",
         "60",
         "65",
         "69.6",
         "71.5"
        ],
        [
         "36",
         "200",
         "0",
         "4",
         "2",
         "2",
         "2",
         "68",
         "54",
         "90.0",
         "59.4"
        ],
        [
         "37",
         "80",
         "0",
         "4",
         "3",
         "1",
         "2",
         "65",
         "62",
         "81.6",
         "68.2"
        ],
        [
         "38",
         "16",
         "0",
         "1",
         "1",
         "1",
         "3",
         "47",
         "31",
         "52.8",
         "34.1"
        ],
        [
         "39",
         "153",
         "0",
         "4",
         "2",
         "1",
         "3",
         "39",
         "31",
         "48.0",
         "34.1"
        ],
        [
         "40",
         "176",
         "0",
         "4",
         "2",
         "2",
         "2",
         "47",
         "47",
         "49.2",
         "51.7"
        ],
        [
         "41",
         "177",
         "0",
         "4",
         "2",
         "2",
         "2",
         "55",
         "59",
         "74.4",
         "64.9"
        ],
        [
         "42",
         "168",
         "0",
         "4",
         "2",
         "1",
         "2",
         "52",
         "54",
         "68.4",
         "59.4"
        ],
        [
         "43",
         "40",
         "0",
         "3",
         "1",
         "1",
         "1",
         "42",
         "41",
         "51.6",
         "45.1"
        ],
        [
         "44",
         "62",
         "0",
         "4",
         "3",
         "1",
         "1",
         "65",
         "65",
         "57.6",
         "71.5"
        ],
        [
         "45",
         "169",
         "0",
         "4",
         "1",
         "1",
         "1",
         "55",
         "59",
         "75.6",
         "64.9"
        ],
        [
         "46",
         "49",
         "0",
         "3",
         "3",
         "1",
         "3",
         "50",
         "40",
         "46.8",
         "44.0"
        ],
        [
         "47",
         "136",
         "0",
         "4",
         "2",
         "1",
         "2",
         "65",
         "59",
         "84.0",
         "64.9"
        ],
        [
         "48",
         "189",
         "0",
         "4",
         "2",
         "2",
         "2",
         "47",
         "59",
         "75.6",
         "64.9"
        ],
        [
         "49",
         "7",
         "0",
         "1",
         "2",
         "1",
         "2",
         "57",
         "54",
         "70.8",
         "59.4"
        ]
       ],
       "shape": {
        "columns": 10,
        "rows": 200
       }
      },
      "text/html": [
       "<div>\n",
       "<style scoped>\n",
       "    .dataframe tbody tr th:only-of-type {\n",
       "        vertical-align: middle;\n",
       "    }\n",
       "\n",
       "    .dataframe tbody tr th {\n",
       "        vertical-align: top;\n",
       "    }\n",
       "\n",
       "    .dataframe thead th {\n",
       "        text-align: right;\n",
       "    }\n",
       "</style>\n",
       "<table border=\"1\" class=\"dataframe\">\n",
       "  <thead>\n",
       "    <tr style=\"text-align: right;\">\n",
       "      <th></th>\n",
       "      <th>custid</th>\n",
       "      <th>sex</th>\n",
       "      <th>AqChannel</th>\n",
       "      <th>region</th>\n",
       "      <th>Marital_status</th>\n",
       "      <th>segment</th>\n",
       "      <th>pre_usage</th>\n",
       "      <th>Post_usage_1month</th>\n",
       "      <th>Latest_mon_usage</th>\n",
       "      <th>post_usage_2ndmonth</th>\n",
       "    </tr>\n",
       "  </thead>\n",
       "  <tbody>\n",
       "    <tr>\n",
       "      <th>0</th>\n",
       "      <td>70</td>\n",
       "      <td>0</td>\n",
       "      <td>4</td>\n",
       "      <td>1</td>\n",
       "      <td>1</td>\n",
       "      <td>1</td>\n",
       "      <td>57</td>\n",
       "      <td>52</td>\n",
       "      <td>49.2</td>\n",
       "      <td>57.2</td>\n",
       "    </tr>\n",
       "    <tr>\n",
       "      <th>1</th>\n",
       "      <td>121</td>\n",
       "      <td>1</td>\n",
       "      <td>4</td>\n",
       "      <td>2</td>\n",
       "      <td>1</td>\n",
       "      <td>3</td>\n",
       "      <td>68</td>\n",
       "      <td>59</td>\n",
       "      <td>63.6</td>\n",
       "      <td>64.9</td>\n",
       "    </tr>\n",
       "    <tr>\n",
       "      <th>2</th>\n",
       "      <td>86</td>\n",
       "      <td>0</td>\n",
       "      <td>4</td>\n",
       "      <td>3</td>\n",
       "      <td>1</td>\n",
       "      <td>1</td>\n",
       "      <td>44</td>\n",
       "      <td>33</td>\n",
       "      <td>64.8</td>\n",
       "      <td>36.3</td>\n",
       "    </tr>\n",
       "    <tr>\n",
       "      <th>3</th>\n",
       "      <td>141</td>\n",
       "      <td>0</td>\n",
       "      <td>4</td>\n",
       "      <td>3</td>\n",
       "      <td>1</td>\n",
       "      <td>3</td>\n",
       "      <td>63</td>\n",
       "      <td>44</td>\n",
       "      <td>56.4</td>\n",
       "      <td>48.4</td>\n",
       "    </tr>\n",
       "    <tr>\n",
       "      <th>4</th>\n",
       "      <td>172</td>\n",
       "      <td>0</td>\n",
       "      <td>4</td>\n",
       "      <td>2</td>\n",
       "      <td>1</td>\n",
       "      <td>2</td>\n",
       "      <td>47</td>\n",
       "      <td>52</td>\n",
       "      <td>68.4</td>\n",
       "      <td>57.2</td>\n",
       "    </tr>\n",
       "    <tr>\n",
       "      <th>...</th>\n",
       "      <td>...</td>\n",
       "      <td>...</td>\n",
       "      <td>...</td>\n",
       "      <td>...</td>\n",
       "      <td>...</td>\n",
       "      <td>...</td>\n",
       "      <td>...</td>\n",
       "      <td>...</td>\n",
       "      <td>...</td>\n",
       "      <td>...</td>\n",
       "    </tr>\n",
       "    <tr>\n",
       "      <th>195</th>\n",
       "      <td>31</td>\n",
       "      <td>1</td>\n",
       "      <td>2</td>\n",
       "      <td>2</td>\n",
       "      <td>2</td>\n",
       "      <td>1</td>\n",
       "      <td>55</td>\n",
       "      <td>59</td>\n",
       "      <td>62.4</td>\n",
       "      <td>64.9</td>\n",
       "    </tr>\n",
       "    <tr>\n",
       "      <th>196</th>\n",
       "      <td>145</td>\n",
       "      <td>1</td>\n",
       "      <td>4</td>\n",
       "      <td>2</td>\n",
       "      <td>1</td>\n",
       "      <td>3</td>\n",
       "      <td>42</td>\n",
       "      <td>46</td>\n",
       "      <td>45.6</td>\n",
       "      <td>50.6</td>\n",
       "    </tr>\n",
       "    <tr>\n",
       "      <th>197</th>\n",
       "      <td>187</td>\n",
       "      <td>1</td>\n",
       "      <td>4</td>\n",
       "      <td>2</td>\n",
       "      <td>2</td>\n",
       "      <td>1</td>\n",
       "      <td>57</td>\n",
       "      <td>41</td>\n",
       "      <td>68.4</td>\n",
       "      <td>45.1</td>\n",
       "    </tr>\n",
       "    <tr>\n",
       "      <th>198</th>\n",
       "      <td>118</td>\n",
       "      <td>1</td>\n",
       "      <td>4</td>\n",
       "      <td>2</td>\n",
       "      <td>1</td>\n",
       "      <td>1</td>\n",
       "      <td>55</td>\n",
       "      <td>62</td>\n",
       "      <td>69.6</td>\n",
       "      <td>68.2</td>\n",
       "    </tr>\n",
       "    <tr>\n",
       "      <th>199</th>\n",
       "      <td>137</td>\n",
       "      <td>1</td>\n",
       "      <td>4</td>\n",
       "      <td>3</td>\n",
       "      <td>1</td>\n",
       "      <td>2</td>\n",
       "      <td>63</td>\n",
       "      <td>65</td>\n",
       "      <td>78.0</td>\n",
       "      <td>71.5</td>\n",
       "    </tr>\n",
       "  </tbody>\n",
       "</table>\n",
       "<p>200 rows × 10 columns</p>\n",
       "</div>"
      ],
      "text/plain": [
       "     custid  sex  AqChannel  region  Marital_status  segment  pre_usage  \\\n",
       "0        70    0          4       1               1        1         57   \n",
       "1       121    1          4       2               1        3         68   \n",
       "2        86    0          4       3               1        1         44   \n",
       "3       141    0          4       3               1        3         63   \n",
       "4       172    0          4       2               1        2         47   \n",
       "..      ...  ...        ...     ...             ...      ...        ...   \n",
       "195      31    1          2       2               2        1         55   \n",
       "196     145    1          4       2               1        3         42   \n",
       "197     187    1          4       2               2        1         57   \n",
       "198     118    1          4       2               1        1         55   \n",
       "199     137    1          4       3               1        2         63   \n",
       "\n",
       "     Post_usage_1month  Latest_mon_usage  post_usage_2ndmonth  \n",
       "0                   52              49.2                 57.2  \n",
       "1                   59              63.6                 64.9  \n",
       "2                   33              64.8                 36.3  \n",
       "3                   44              56.4                 48.4  \n",
       "4                   52              68.4                 57.2  \n",
       "..                 ...               ...                  ...  \n",
       "195                 59              62.4                 64.9  \n",
       "196                 46              45.6                 50.6  \n",
       "197                 41              68.4                 45.1  \n",
       "198                 62              69.6                 68.2  \n",
       "199                 65              78.0                 71.5  \n",
       "\n",
       "[200 rows x 10 columns]"
      ]
     },
     "execution_count": 3,
     "metadata": {},
     "output_type": "execute_result"
    }
   ],
   "source": [
    "df_customer"
   ]
  },
  {
   "cell_type": "markdown",
   "metadata": {},
   "source": [
    "## Tugas soal no. 1 \n",
    "#### Lakukan analisis eksplorasi data pada dataset tersebut dan berikan penjelasan dan visualisasinya menggunakan python: \n"
   ]
  },
  {
   "cell_type": "markdown",
   "metadata": {},
   "source": [
    "### a. Jalankan fungsi-fungsi dasar: info(), describe(). "
   ]
  },
  {
   "cell_type": "code",
   "execution_count": 4,
   "metadata": {},
   "outputs": [
    {
     "name": "stdout",
     "output_type": "stream",
     "text": [
      "<class 'pandas.core.frame.DataFrame'>\n",
      "RangeIndex: 200 entries, 0 to 199\n",
      "Data columns (total 10 columns):\n",
      " #   Column               Non-Null Count  Dtype  \n",
      "---  ------               --------------  -----  \n",
      " 0   custid               200 non-null    int64  \n",
      " 1   sex                  200 non-null    int64  \n",
      " 2   AqChannel            200 non-null    int64  \n",
      " 3   region               200 non-null    int64  \n",
      " 4   Marital_status       200 non-null    int64  \n",
      " 5   segment              200 non-null    int64  \n",
      " 6   pre_usage            200 non-null    int64  \n",
      " 7   Post_usage_1month    200 non-null    int64  \n",
      " 8   Latest_mon_usage     200 non-null    float64\n",
      " 9   post_usage_2ndmonth  200 non-null    float64\n",
      "dtypes: float64(2), int64(8)\n",
      "memory usage: 15.8 KB\n"
     ]
    }
   ],
   "source": [
    "df_customer.info()"
   ]
  },
  {
   "cell_type": "code",
   "execution_count": 5,
   "metadata": {},
   "outputs": [
    {
     "data": {
      "application/vnd.microsoft.datawrangler.viewer.v0+json": {
       "columns": [
        {
         "name": "index",
         "rawType": "object",
         "type": "string"
        },
        {
         "name": "custid",
         "rawType": "float64",
         "type": "float"
        },
        {
         "name": "sex",
         "rawType": "float64",
         "type": "float"
        },
        {
         "name": "AqChannel",
         "rawType": "float64",
         "type": "float"
        },
        {
         "name": "region",
         "rawType": "float64",
         "type": "float"
        },
        {
         "name": "Marital_status",
         "rawType": "float64",
         "type": "float"
        },
        {
         "name": "segment",
         "rawType": "float64",
         "type": "float"
        },
        {
         "name": "pre_usage",
         "rawType": "float64",
         "type": "float"
        },
        {
         "name": "Post_usage_1month",
         "rawType": "float64",
         "type": "float"
        },
        {
         "name": "Latest_mon_usage",
         "rawType": "float64",
         "type": "float"
        },
        {
         "name": "post_usage_2ndmonth",
         "rawType": "float64",
         "type": "float"
        }
       ],
       "conversionMethod": "pd.DataFrame",
       "ref": "c9d6c2a2-1a3c-4f25-9416-b250d9f9b5ea",
       "rows": [
        [
         "count",
         "200.0",
         "200.0",
         "200.0",
         "200.0",
         "200.0",
         "200.0",
         "200.0",
         "200.0",
         "200.0",
         "200.0"
        ],
        [
         "mean",
         "100.5",
         "0.545",
         "3.43",
         "2.055",
         "1.16",
         "2.025",
         "52.23",
         "52.775",
         "63.174",
         "58.0525"
        ],
        [
         "std",
         "57.879184513951124",
         "0.4992204979041207",
         "1.039472227893951",
         "0.7242913708927843",
         "0.3675260220507142",
         "0.6904772219051467",
         "10.25293682648241",
         "9.47858602138653",
         "11.242137352892756",
         "10.426444623525184"
        ],
        [
         "min",
         "1.0",
         "0.0",
         "1.0",
         "1.0",
         "1.0",
         "1.0",
         "28.0",
         "31.0",
         "39.6",
         "34.1"
        ],
        [
         "25%",
         "50.75",
         "0.0",
         "3.0",
         "2.0",
         "1.0",
         "2.0",
         "44.0",
         "45.75",
         "54.0",
         "50.325"
        ],
        [
         "50%",
         "100.5",
         "1.0",
         "4.0",
         "2.0",
         "1.0",
         "2.0",
         "50.0",
         "54.0",
         "62.4",
         "59.4"
        ],
        [
         "75%",
         "150.25",
         "1.0",
         "4.0",
         "3.0",
         "1.0",
         "2.25",
         "60.0",
         "60.0",
         "70.8",
         "66.0"
        ],
        [
         "max",
         "200.0",
         "1.0",
         "4.0",
         "3.0",
         "2.0",
         "3.0",
         "76.0",
         "67.0",
         "90.0",
         "73.7"
        ]
       ],
       "shape": {
        "columns": 10,
        "rows": 8
       }
      },
      "text/html": [
       "<div>\n",
       "<style scoped>\n",
       "    .dataframe tbody tr th:only-of-type {\n",
       "        vertical-align: middle;\n",
       "    }\n",
       "\n",
       "    .dataframe tbody tr th {\n",
       "        vertical-align: top;\n",
       "    }\n",
       "\n",
       "    .dataframe thead th {\n",
       "        text-align: right;\n",
       "    }\n",
       "</style>\n",
       "<table border=\"1\" class=\"dataframe\">\n",
       "  <thead>\n",
       "    <tr style=\"text-align: right;\">\n",
       "      <th></th>\n",
       "      <th>custid</th>\n",
       "      <th>sex</th>\n",
       "      <th>AqChannel</th>\n",
       "      <th>region</th>\n",
       "      <th>Marital_status</th>\n",
       "      <th>segment</th>\n",
       "      <th>pre_usage</th>\n",
       "      <th>Post_usage_1month</th>\n",
       "      <th>Latest_mon_usage</th>\n",
       "      <th>post_usage_2ndmonth</th>\n",
       "    </tr>\n",
       "  </thead>\n",
       "  <tbody>\n",
       "    <tr>\n",
       "      <th>count</th>\n",
       "      <td>200.000000</td>\n",
       "      <td>200.00000</td>\n",
       "      <td>200.000000</td>\n",
       "      <td>200.000000</td>\n",
       "      <td>200.000000</td>\n",
       "      <td>200.000000</td>\n",
       "      <td>200.000000</td>\n",
       "      <td>200.000000</td>\n",
       "      <td>200.000000</td>\n",
       "      <td>200.000000</td>\n",
       "    </tr>\n",
       "    <tr>\n",
       "      <th>mean</th>\n",
       "      <td>100.500000</td>\n",
       "      <td>0.54500</td>\n",
       "      <td>3.430000</td>\n",
       "      <td>2.055000</td>\n",
       "      <td>1.160000</td>\n",
       "      <td>2.025000</td>\n",
       "      <td>52.230000</td>\n",
       "      <td>52.775000</td>\n",
       "      <td>63.174000</td>\n",
       "      <td>58.052500</td>\n",
       "    </tr>\n",
       "    <tr>\n",
       "      <th>std</th>\n",
       "      <td>57.879185</td>\n",
       "      <td>0.49922</td>\n",
       "      <td>1.039472</td>\n",
       "      <td>0.724291</td>\n",
       "      <td>0.367526</td>\n",
       "      <td>0.690477</td>\n",
       "      <td>10.252937</td>\n",
       "      <td>9.478586</td>\n",
       "      <td>11.242137</td>\n",
       "      <td>10.426445</td>\n",
       "    </tr>\n",
       "    <tr>\n",
       "      <th>min</th>\n",
       "      <td>1.000000</td>\n",
       "      <td>0.00000</td>\n",
       "      <td>1.000000</td>\n",
       "      <td>1.000000</td>\n",
       "      <td>1.000000</td>\n",
       "      <td>1.000000</td>\n",
       "      <td>28.000000</td>\n",
       "      <td>31.000000</td>\n",
       "      <td>39.600000</td>\n",
       "      <td>34.100000</td>\n",
       "    </tr>\n",
       "    <tr>\n",
       "      <th>25%</th>\n",
       "      <td>50.750000</td>\n",
       "      <td>0.00000</td>\n",
       "      <td>3.000000</td>\n",
       "      <td>2.000000</td>\n",
       "      <td>1.000000</td>\n",
       "      <td>2.000000</td>\n",
       "      <td>44.000000</td>\n",
       "      <td>45.750000</td>\n",
       "      <td>54.000000</td>\n",
       "      <td>50.325000</td>\n",
       "    </tr>\n",
       "    <tr>\n",
       "      <th>50%</th>\n",
       "      <td>100.500000</td>\n",
       "      <td>1.00000</td>\n",
       "      <td>4.000000</td>\n",
       "      <td>2.000000</td>\n",
       "      <td>1.000000</td>\n",
       "      <td>2.000000</td>\n",
       "      <td>50.000000</td>\n",
       "      <td>54.000000</td>\n",
       "      <td>62.400000</td>\n",
       "      <td>59.400000</td>\n",
       "    </tr>\n",
       "    <tr>\n",
       "      <th>75%</th>\n",
       "      <td>150.250000</td>\n",
       "      <td>1.00000</td>\n",
       "      <td>4.000000</td>\n",
       "      <td>3.000000</td>\n",
       "      <td>1.000000</td>\n",
       "      <td>2.250000</td>\n",
       "      <td>60.000000</td>\n",
       "      <td>60.000000</td>\n",
       "      <td>70.800000</td>\n",
       "      <td>66.000000</td>\n",
       "    </tr>\n",
       "    <tr>\n",
       "      <th>max</th>\n",
       "      <td>200.000000</td>\n",
       "      <td>1.00000</td>\n",
       "      <td>4.000000</td>\n",
       "      <td>3.000000</td>\n",
       "      <td>2.000000</td>\n",
       "      <td>3.000000</td>\n",
       "      <td>76.000000</td>\n",
       "      <td>67.000000</td>\n",
       "      <td>90.000000</td>\n",
       "      <td>73.700000</td>\n",
       "    </tr>\n",
       "  </tbody>\n",
       "</table>\n",
       "</div>"
      ],
      "text/plain": [
       "           custid        sex   AqChannel      region  Marital_status  \\\n",
       "count  200.000000  200.00000  200.000000  200.000000      200.000000   \n",
       "mean   100.500000    0.54500    3.430000    2.055000        1.160000   \n",
       "std     57.879185    0.49922    1.039472    0.724291        0.367526   \n",
       "min      1.000000    0.00000    1.000000    1.000000        1.000000   \n",
       "25%     50.750000    0.00000    3.000000    2.000000        1.000000   \n",
       "50%    100.500000    1.00000    4.000000    2.000000        1.000000   \n",
       "75%    150.250000    1.00000    4.000000    3.000000        1.000000   \n",
       "max    200.000000    1.00000    4.000000    3.000000        2.000000   \n",
       "\n",
       "          segment   pre_usage  Post_usage_1month  Latest_mon_usage  \\\n",
       "count  200.000000  200.000000         200.000000        200.000000   \n",
       "mean     2.025000   52.230000          52.775000         63.174000   \n",
       "std      0.690477   10.252937           9.478586         11.242137   \n",
       "min      1.000000   28.000000          31.000000         39.600000   \n",
       "25%      2.000000   44.000000          45.750000         54.000000   \n",
       "50%      2.000000   50.000000          54.000000         62.400000   \n",
       "75%      2.250000   60.000000          60.000000         70.800000   \n",
       "max      3.000000   76.000000          67.000000         90.000000   \n",
       "\n",
       "       post_usage_2ndmonth  \n",
       "count           200.000000  \n",
       "mean             58.052500  \n",
       "std              10.426445  \n",
       "min              34.100000  \n",
       "25%              50.325000  \n",
       "50%              59.400000  \n",
       "75%              66.000000  \n",
       "max              73.700000  "
      ]
     },
     "execution_count": 5,
     "metadata": {},
     "output_type": "execute_result"
    }
   ],
   "source": [
    "df_customer.describe()"
   ]
  },
  {
   "cell_type": "markdown",
   "metadata": {},
   "source": [
    "### b. Buat histogram untuk melihat persebaran data beberapa variable yang menurut Anda penting. "
   ]
  },
  {
   "cell_type": "code",
   "execution_count": 6,
   "metadata": {},
   "outputs": [
    {
     "data": {
      "text/plain": [
       "Index(['custid', 'sex', 'AqChannel', 'region', 'Marital_status', 'segment',\n",
       "       'pre_usage', 'Post_usage_1month', 'Latest_mon_usage',\n",
       "       'post_usage_2ndmonth'],\n",
       "      dtype='object')"
      ]
     },
     "execution_count": 6,
     "metadata": {},
     "output_type": "execute_result"
    }
   ],
   "source": [
    "df_customer.columns"
   ]
  },
  {
   "cell_type": "code",
   "execution_count": 7,
   "metadata": {},
   "outputs": [
    {
     "data": {
      "image/png": "[encoded data removed]",
      "text/plain": [
       "<Figure size 1400x1000 with 4 Axes>"
      ]
     },
     "metadata": {},
     "output_type": "display_data"
    }
   ],
   "source": [
    "important_variables = ['pre_usage', 'Post_usage_1month', 'Latest_mon_usage', 'post_usage_2ndmonth']\n",
    "\n",
    "fig, axs = plt.subplots(2, 2, figsize=(14, 10))\n",
    "\n",
    "for i, variable in enumerate(important_variables):\n",
    "    ax = axs[i // 2, i % 2]\n",
    "    ax.hist(df_customer[variable].dropna(), bins=30, edgecolor='k', alpha=0.7)\n",
    "    ax.set_title(f'Histogram of {variable}')\n",
    "    ax.set_xlabel(variable)\n",
    "    ax.set_ylabel('Frequency')\n",
    "    ax.grid(True)\n",
    "\n",
    "plt.tight_layout()\n",
    "plt.show()"
   ]
  },
  {
   "cell_type": "markdown",
   "metadata": {},
   "source": [
    "## Tugas soal no. 2\n",
    "#### Lakukan uji hipotesis untuk melihat apakah kampanye yang dilakukan berhasil. (Hint: gunakan fungsi ttest_rel): "
   ]
  },
  {
   "cell_type": "markdown",
   "metadata": {},
   "source": [
    "### a. Bandingkan  penggunaan  kartu  kredit  antara  sebelum  kampanye  dengan  1  bulan  setelah kampanye. "
   ]
  },
  {
   "cell_type": "code",
   "execution_count": 8,
   "metadata": {},
   "outputs": [
    {
     "name": "stdout",
     "output_type": "stream",
     "text": [
      "T-statistic: -0.8673065458794775\n",
      "P-value: 0.3868186820914985\n",
      "The campaign was not successful.\n"
     ]
    }
   ],
   "source": [
    "# Compare credit card usage before the campaign with 1 month after the campaign\n",
    "pre_usage = df_customer['pre_usage']\n",
    "post_usage_1month = df_customer['Post_usage_1month']\n",
    "\n",
    "# Perform the paired t-test\n",
    "t_statistic, p_value = stats.ttest_rel(pre_usage, post_usage_1month, nan_policy='omit')\n",
    "\n",
    "# Print the results\n",
    "print(f'T-statistic: {t_statistic}')\n",
    "print(f'P-value: {p_value}')\n",
    "\n",
    "# Check if the p-value is less than the significance level (e.g., 0.05)\n",
    "alpha = 0.05\n",
    "if p_value < alpha:\n",
    "    print('The campaign was successful.')\n",
    "else:\n",
    "    print('The campaign was not successful.')"
   ]
  },
  {
   "cell_type": "markdown",
   "metadata": {},
   "source": [
    "\n",
    "### b. Bandingkan  penggunaan  kartu  kredit  antara  sebelum  kampanye  dengan  2  bulan  setelah kampanye. \n"
   ]
  },
  {
   "cell_type": "code",
   "execution_count": 9,
   "metadata": {},
   "outputs": [
    {
     "name": "stdout",
     "output_type": "stream",
     "text": [
      "T-statistic: -8.866832246938742\n",
      "P-value: 4.295733828012836e-16\n",
      "The campaign was successful.\n"
     ]
    }
   ],
   "source": [
    "# Compare credit card usage before the campaign with 2 months after the campaign\n",
    "pre_usage = df_customer['pre_usage']\n",
    "post_usage_2ndmonth = df_customer['post_usage_2ndmonth']\n",
    "\n",
    "# Perform the paired t-test\n",
    "t_statistic, p_value = stats.ttest_rel(pre_usage, post_usage_2ndmonth, nan_policy='omit')\n",
    "\n",
    "# Print the results\n",
    "print(f'T-statistic: {t_statistic}')\n",
    "print(f'P-value: {p_value}')\n",
    "\n",
    "# Check if the p-value is less than the significance level (e.g., 0.05)\n",
    "alpha = 0.05\n",
    "if p_value < alpha:\n",
    "    print('The campaign was successful.')\n",
    "else:\n",
    "    print('The campaign was not successful.')"
   ]
  },
  {
   "cell_type": "markdown",
   "metadata": {},
   "source": [
    "## Tugas soal no. 3 \n",
    "#### Lakukan  uji  hipotesis  untuk  melihat  apakah  ada  perbedaan  penggunaan  kartu  kredit  antara kelompok laki-laki dan perempuan setelah kampanye. (Hint: gunakan fungsi ttest_ind): "
   ]
  },
  {
   "cell_type": "markdown",
   "metadata": {},
   "source": [
    "### a. Bandingkan penggunaan kartu kredit kelompok laki-laki dengan perempuan 1 bulan setelah kampanye. "
   ]
  },
  {
   "cell_type": "code",
   "execution_count": 10,
   "metadata": {},
   "outputs": [
    {
     "name": "stdout",
     "output_type": "stream",
     "text": [
      "T-statistic: -3.656408047887528\n",
      "P-value: 0.000340884935942662\n",
      "There is a significant difference in credit card usage between male and female customers after 1 month.\n"
     ]
    }
   ],
   "source": [
    "# Separate data for male and female customers\n",
    "male_usage = df_customer[df_customer['sex'] == 0]['Post_usage_1month'].dropna()\n",
    "female_usage = df_customer[df_customer['sex'] == 1]['Post_usage_1month'].dropna()\n",
    "\n",
    "# Perform independent samples t-test\n",
    "t_statistic, p_value = stats.ttest_ind(male_usage, female_usage, equal_var=False)\n",
    "\n",
    "# Print the results\n",
    "print(f'T-statistic: {t_statistic}')\n",
    "print(f'P-value: {p_value}')\n",
    "\n",
    "# Check if the p-value is less than the significance level (e.g., 0.05)\n",
    "alpha = 0.05\n",
    "if p_value < alpha:\n",
    "    print('There is a significant difference in credit card usage between male and female customers after 1 month.')\n",
    "else:\n",
    "    print('There is no significant difference in credit card usage between male and female customers after 1 month.')"
   ]
  },
  {
   "cell_type": "markdown",
   "metadata": {},
   "source": [
    "### b. Bandingkan penggunaan kartu kredit kelompok laki-laki dengan perempuan 2 bulan setelah kampanye."
   ]
  },
  {
   "cell_type": "code",
   "execution_count": 11,
   "metadata": {},
   "outputs": [
    {
     "name": "stdout",
     "output_type": "stream",
     "text": [
      "T-statistic: -3.6564080478875405\n",
      "P-value: 0.0003408849359426465\n",
      "There is a significant difference in credit card usage between male and female customers after 2 months.\n"
     ]
    }
   ],
   "source": [
    "# Separate data for male and female customers\n",
    "male_usage = df_customer[df_customer['sex'] == 0]['post_usage_2ndmonth'].dropna()\n",
    "female_usage = df_customer[df_customer['sex'] == 1]['post_usage_2ndmonth'].dropna()\n",
    "\n",
    "# Perform independent samples t-test\n",
    "t_statistic, p_value = stats.ttest_ind(male_usage, female_usage, equal_var=False)\n",
    "\n",
    "# Print the results\n",
    "print(f'T-statistic: {t_statistic}')\n",
    "print(f'P-value: {p_value}')\n",
    "\n",
    "# Check if the p-value is less than the significance level (e.g., 0.05)\n",
    "alpha = 0.05\n",
    "if p_value < alpha:\n",
    "    print('There is a significant difference in credit card usage between male and female customers after 2 months.')\n",
    "else:\n",
    "    print('There is no significant difference in credit card usage between male and female customers after 2 months.')"
   ]
  },
  {
   "cell_type": "code",
   "execution_count": null,
   "metadata": {},
   "outputs": [],
   "source": []
  }
 ],
 "metadata": {
  "kernelspec": {
   "display_name": ".venv",
   "language": "python",
   "name": "python3"
  },
  "language_info": {
   "codemirror_mode": {
    "name": "ipython",
    "version": 3
   },
   "file_extension": ".py",
   "mimetype": "text/x-python",
   "name": "python",
   "nbconvert_exporter": "python",
   "pygments_lexer": "ipython3",
   "version": "3.9.6"
  }
 },
 "nbformat": 4,
 "nbformat_minor": 2
}
