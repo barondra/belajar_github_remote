{
 "cells": [
  {
   "cell_type": "markdown",
   "id": "4bf56f8d-8358-4118-98b4-a7e7eddaa2f3",
   "metadata": {},
   "source": [
    "## Homework Python\n",
    "created by Bharindra Kamanditya"
   ]
  },
  {
   "cell_type": "markdown",
   "id": "e0920f14-f986-4adf-986a-aa258b14eedd",
   "metadata": {},
   "source": [
    "### Question\n",
    "\n",
    "Menganalisis Data Penjualan\n",
    "Anda memiliki daftar dictionary yang mewakili data penjualan. Setiap dictionary berisi 'item',\n",
    "'quantity', dan 'price'. Tulislah sebuah fungsi yang menghitung jumlah total penjualan\n",
    "(quantity * price) untuk setiap item dan mengembalikan daftar dictionary baru dengan 'item'\n",
    "dan 'total_sales'."
   ]
  },
  {
   "cell_type": "markdown",
   "id": "4c9c54d0-1c16-4931-813b-d16e8a5ea216",
   "metadata": {},
   "source": [
    "### Answer"
   ]
  },
  {
   "cell_type": "code",
   "execution_count": 4,
   "id": "1034ecae-74e4-48c0-a573-298fbba798ce",
   "metadata": {},
   "outputs": [],
   "source": [
    "sales_data = [\n",
    "    {'item':'apple', 'quantity':10, 'price':0.5},\n",
    "    {'item':'banana', 'quantity':5, 'price':0.75},\n",
    "    {'item':'orange', 'quantity':8, 'price':0.6},\n",
    "]"
   ]
  },
  {
   "cell_type": "code",
   "execution_count": 5,
   "id": "0e52d101-3bf7-4ce1-80bf-71771fa0e340",
   "metadata": {},
   "outputs": [],
   "source": [
    "def calculate_total_sales(data):\n",
    "    \"\"\" docstring \"\"\"\n",
    "    list_of_total_sales_dict = []\n",
    "    for item_dict in data:\n",
    "        total_sales_dict = {}\n",
    "        total_sales_dict['item'] = item_dict['item']\n",
    "        total_sales_dict['total_sales'] = item_dict['quantity'] * item_dict['price']\n",
    "        list_of_total_sales_dict.append(total_sales_dict)\n",
    "    return list_of_total_sales_dict"
   ]
  },
  {
   "cell_type": "markdown",
   "id": "2478bd3c-833a-4ead-989a-85062849cee8",
   "metadata": {},
   "source": [
    "Expected Output:\n",
    "```\n",
    "[\n",
    "{'item': 'apple', 'total_sales': 5.0},\n",
    "{'item': 'banana', 'total_sales': 3.75},\n",
    "{'item': 'orange', 'total_sales': 4.8}\n",
    "]\n",
    "```"
   ]
  },
  {
   "cell_type": "code",
   "execution_count": 6,
   "id": "0d531d41-968d-4851-9b9d-b36a6ad43e6e",
   "metadata": {},
   "outputs": [
    {
     "name": "stdout",
     "output_type": "stream",
     "text": [
      "[{'item': 'apple', 'total_sales': 5.0}, {'item': 'banana', 'total_sales': 3.75}, {'item': 'orange', 'total_sales': 4.8}]\n"
     ]
    }
   ],
   "source": [
    "print(calculate_total_sales(sales_data))\n"
   ]
  },
  {
   "cell_type": "code",
   "execution_count": null,
   "id": "9d64b3b2-bdd0-4b08-b8bb-8008881fe8a7",
   "metadata": {},
   "outputs": [],
   "source": []
  }
 ],
 "metadata": {
  "kernelspec": {
   "display_name": "Python 3",
   "language": "python",
   "name": "python3"
  },
  "language_info": {
   "codemirror_mode": {
    "name": "ipython",
    "version": 3
   },
   "file_extension": ".py",
   "mimetype": "text/x-python",
   "name": "python",
   "nbconvert_exporter": "python",
   "pygments_lexer": "ipython3",
   "version": "3.8.8"
  }
 },
 "nbformat": 4,
 "nbformat_minor": 5
}
