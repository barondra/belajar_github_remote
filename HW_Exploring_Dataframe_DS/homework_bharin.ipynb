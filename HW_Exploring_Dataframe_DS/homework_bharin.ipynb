{
 "cells": [
  {
   "cell_type": "markdown",
   "metadata": {},
   "source": [
    "# Homework 4 - Exploring DataFrame\n",
    "Created by Bharindra Kamanditya"
   ]
  },
  {
   "cell_type": "markdown",
   "metadata": {},
   "source": [
    "## Import Library"
   ]
  },
  {
   "cell_type": "code",
   "execution_count": 1,
   "metadata": {},
   "outputs": [],
   "source": [
    "import pandas as pd\n",
    "import numpy as np"
   ]
  },
  {
   "cell_type": "markdown",
   "metadata": {},
   "source": [
    "## Soal\n",
    "Gunakan sheet “Paid-Transaction” dan “Seller” di berkas excel “Homework- DataFrame-Dataset.xlsx” sebagai sumber data untuk diimpor ke DataFrame, lalu jalankan instruksi dan jawablah pertanyaan di bawah ini."
   ]
  },
  {
   "cell_type": "code",
   "execution_count": 2,
   "metadata": {},
   "outputs": [],
   "source": [
    "# Read the data from the Excel file\n",
    "paid_transaction_df = pd.read_excel('Homework-DataFrame-Dataset.xlsx', sheet_name='Paid-Transaction')\n",
    "seller_df = pd.read_excel('Homework-DataFrame-Dataset.xlsx', sheet_name='Seller')\n"
   ]
  },
  {
   "cell_type": "code",
   "execution_count": 3,
   "metadata": {},
   "outputs": [
    {
     "name": "stdout",
     "output_type": "stream",
     "text": [
      "11\n",
      "Index(['Paid Date', 'Order Number', 'First Name', 'Last Name', 'Meta Category',\n",
      "       'Product Name', 'Transaction Amount', 'Seller Discount',\n",
      "       'Sales Discount', 'Delivery Fee', 'Other Discount'],\n",
      "      dtype='object')\n",
      "2\n",
      "Index(['Order Number', 'Seller'], dtype='object')\n"
     ]
    }
   ],
   "source": [
    "print(len(paid_transaction_df.columns))\n",
    "print(paid_transaction_df.columns)\n",
    "print(len(seller_df.columns))\n",
    "print(seller_df.columns)"
   ]
  },
  {
   "cell_type": "code",
   "execution_count": 4,
   "metadata": {},
   "outputs": [
    {
     "data": {
      "text/html": [
       "<div>\n",
       "<style scoped>\n",
       "    .dataframe tbody tr th:only-of-type {\n",
       "        vertical-align: middle;\n",
       "    }\n",
       "\n",
       "    .dataframe tbody tr th {\n",
       "        vertical-align: top;\n",
       "    }\n",
       "\n",
       "    .dataframe thead th {\n",
       "        text-align: right;\n",
       "    }\n",
       "</style>\n",
       "<table border=\"1\" class=\"dataframe\">\n",
       "  <thead>\n",
       "    <tr style=\"text-align: right;\">\n",
       "      <th></th>\n",
       "      <th>Paid Date</th>\n",
       "      <th>Order Number</th>\n",
       "      <th>First Name</th>\n",
       "      <th>Last Name</th>\n",
       "      <th>Meta Category</th>\n",
       "      <th>Product Name</th>\n",
       "      <th>Transaction Amount</th>\n",
       "      <th>Seller Discount</th>\n",
       "      <th>Sales Discount</th>\n",
       "      <th>Delivery Fee</th>\n",
       "      <th>Other Discount</th>\n",
       "    </tr>\n",
       "  </thead>\n",
       "  <tbody>\n",
       "    <tr>\n",
       "      <th>0</th>\n",
       "      <td>20170724</td>\n",
       "      <td>201707240088517</td>\n",
       "      <td>elvride</td>\n",
       "      <td>aries</td>\n",
       "      <td>Babies/ Kids</td>\n",
       "      <td>Pineapple Hat Anak Ala Korea - 6M - 4Y - Unise...</td>\n",
       "      <td>300000</td>\n",
       "      <td>153000</td>\n",
       "      <td>10200.0</td>\n",
       "      <td>9000</td>\n",
       "      <td>0.0</td>\n",
       "    </tr>\n",
       "    <tr>\n",
       "      <th>1</th>\n",
       "      <td>20170701</td>\n",
       "      <td>201707018889790</td>\n",
       "      <td>BASIR</td>\n",
       "      <td>Ninuk</td>\n",
       "      <td>Service/ Mokado</td>\n",
       "      <td>Pulsa BOLT 150.000</td>\n",
       "      <td>287800</td>\n",
       "      <td>68000</td>\n",
       "      <td>0.0</td>\n",
       "      <td>0</td>\n",
       "      <td>0.0</td>\n",
       "    </tr>\n",
       "    <tr>\n",
       "      <th>2</th>\n",
       "      <td>20170707</td>\n",
       "      <td>201707079264675</td>\n",
       "      <td>Citra</td>\n",
       "      <td>Ardi</td>\n",
       "      <td>Service/ Mokado</td>\n",
       "      <td>XTRA Combo 12X 6GB, 12bln</td>\n",
       "      <td>35000</td>\n",
       "      <td>0</td>\n",
       "      <td>700.0</td>\n",
       "      <td>0</td>\n",
       "      <td>0.0</td>\n",
       "    </tr>\n",
       "    <tr>\n",
       "      <th>3</th>\n",
       "      <td>20170720</td>\n",
       "      <td>201707209945714</td>\n",
       "      <td>Dian</td>\n",
       "      <td>Renaldi</td>\n",
       "      <td>Fashion</td>\n",
       "      <td>Square Foldable Travel Bag / Tas Koper Luggage...</td>\n",
       "      <td>85000</td>\n",
       "      <td>0</td>\n",
       "      <td>5900.0</td>\n",
       "      <td>0</td>\n",
       "      <td>0.0</td>\n",
       "    </tr>\n",
       "    <tr>\n",
       "      <th>4</th>\n",
       "      <td>20170722</td>\n",
       "      <td>201707220002354</td>\n",
       "      <td>rizal</td>\n",
       "      <td>Tamba</td>\n",
       "      <td>Gadget/ Komputer</td>\n",
       "      <td>Samsung Galaxy Note 5 Gold</td>\n",
       "      <td>81000</td>\n",
       "      <td>0</td>\n",
       "      <td>5600.0</td>\n",
       "      <td>0</td>\n",
       "      <td>0.0</td>\n",
       "    </tr>\n",
       "  </tbody>\n",
       "</table>\n",
       "</div>"
      ],
      "text/plain": [
       "   Paid Date     Order Number First Name Last Name     Meta Category  \\\n",
       "0   20170724  201707240088517    elvride     aries      Babies/ Kids   \n",
       "1   20170701  201707018889790      BASIR     Ninuk   Service/ Mokado   \n",
       "2   20170707  201707079264675      Citra      Ardi   Service/ Mokado   \n",
       "3   20170720  201707209945714       Dian   Renaldi           Fashion   \n",
       "4   20170722  201707220002354      rizal     Tamba  Gadget/ Komputer   \n",
       "\n",
       "                                        Product Name  Transaction Amount  \\\n",
       "0  Pineapple Hat Anak Ala Korea - 6M - 4Y - Unise...              300000   \n",
       "1                                 Pulsa BOLT 150.000              287800   \n",
       "2                          XTRA Combo 12X 6GB, 12bln               35000   \n",
       "3  Square Foldable Travel Bag / Tas Koper Luggage...               85000   \n",
       "4                         Samsung Galaxy Note 5 Gold               81000   \n",
       "\n",
       "   Seller Discount  Sales Discount  Delivery Fee  Other Discount  \n",
       "0           153000         10200.0          9000             0.0  \n",
       "1            68000             0.0             0             0.0  \n",
       "2                0           700.0             0             0.0  \n",
       "3                0          5900.0             0             0.0  \n",
       "4                0          5600.0             0             0.0  "
      ]
     },
     "execution_count": 4,
     "metadata": {},
     "output_type": "execute_result"
    }
   ],
   "source": [
    "paid_transaction_df.head()"
   ]
  },
  {
   "cell_type": "code",
   "execution_count": 5,
   "metadata": {},
   "outputs": [
    {
     "data": {
      "text/html": [
       "<div>\n",
       "<style scoped>\n",
       "    .dataframe tbody tr th:only-of-type {\n",
       "        vertical-align: middle;\n",
       "    }\n",
       "\n",
       "    .dataframe tbody tr th {\n",
       "        vertical-align: top;\n",
       "    }\n",
       "\n",
       "    .dataframe thead th {\n",
       "        text-align: right;\n",
       "    }\n",
       "</style>\n",
       "<table border=\"1\" class=\"dataframe\">\n",
       "  <thead>\n",
       "    <tr style=\"text-align: right;\">\n",
       "      <th></th>\n",
       "      <th>Order Number</th>\n",
       "      <th>Seller</th>\n",
       "    </tr>\n",
       "  </thead>\n",
       "  <tbody>\n",
       "    <tr>\n",
       "      <th>0</th>\n",
       "      <td>201707209929420</td>\n",
       "      <td>Global Phone</td>\n",
       "    </tr>\n",
       "    <tr>\n",
       "      <th>1</th>\n",
       "      <td>201707129550097</td>\n",
       "      <td>E-shop</td>\n",
       "    </tr>\n",
       "    <tr>\n",
       "      <th>2</th>\n",
       "      <td>201707039056021</td>\n",
       "      <td>twelven com</td>\n",
       "    </tr>\n",
       "    <tr>\n",
       "      <th>3</th>\n",
       "      <td>201707099376522</td>\n",
       "      <td>GRAMEDIA</td>\n",
       "    </tr>\n",
       "    <tr>\n",
       "      <th>4</th>\n",
       "      <td>201707028956707</td>\n",
       "      <td>E-Bold</td>\n",
       "    </tr>\n",
       "  </tbody>\n",
       "</table>\n",
       "</div>"
      ],
      "text/plain": [
       "      Order Number        Seller\n",
       "0  201707209929420  Global Phone\n",
       "1  201707129550097        E-shop\n",
       "2  201707039056021   twelven com\n",
       "3  201707099376522      GRAMEDIA\n",
       "4  201707028956707        E-Bold"
      ]
     },
     "execution_count": 5,
     "metadata": {},
     "output_type": "execute_result"
    }
   ],
   "source": [
    "seller_df.head()"
   ]
  },
  {
   "cell_type": "markdown",
   "metadata": {},
   "source": [
    "## No. 1\n",
    "1. Buatlah kolom baru bernama “Full Name” dan sisipkan kolom tersebut setelah kolom “Last Name” yang berisikan nama lengkap dari setiap isian record dengan ketentuan sebagai berikut:\n",
    "\n",
    "• Nama lengkap menggabungkan “First Name” dan “Last Name”.\n",
    "\n",
    "• Nama lengkap menggunakan “title case”, yaitu untuk setiap kata, huruf awalnya harus huruf kapital.\n",
    "\n"
   ]
  },
  {
   "cell_type": "code",
   "execution_count": 6,
   "metadata": {},
   "outputs": [],
   "source": [
    "paid_transaction_df.insert(\n",
    "    4,\n",
    "    'Full Name',\n",
    "    paid_transaction_df['First Name'].str.capitalize() + ' ' + paid_transaction_df['Last Name'].str.capitalize()\n",
    ")"
   ]
  },
  {
   "cell_type": "code",
   "execution_count": 7,
   "metadata": {},
   "outputs": [
    {
     "name": "stdout",
     "output_type": "stream",
     "text": [
      "12\n",
      "Index(['Paid Date', 'Order Number', 'First Name', 'Last Name', 'Full Name',\n",
      "       'Meta Category', 'Product Name', 'Transaction Amount',\n",
      "       'Seller Discount', 'Sales Discount', 'Delivery Fee', 'Other Discount'],\n",
      "      dtype='object')\n"
     ]
    }
   ],
   "source": [
    "print(len(paid_transaction_df.columns))\n",
    "print(paid_transaction_df.columns)"
   ]
  },
  {
   "cell_type": "code",
   "execution_count": 8,
   "metadata": {},
   "outputs": [
    {
     "data": {
      "text/html": [
       "<div>\n",
       "<style scoped>\n",
       "    .dataframe tbody tr th:only-of-type {\n",
       "        vertical-align: middle;\n",
       "    }\n",
       "\n",
       "    .dataframe tbody tr th {\n",
       "        vertical-align: top;\n",
       "    }\n",
       "\n",
       "    .dataframe thead th {\n",
       "        text-align: right;\n",
       "    }\n",
       "</style>\n",
       "<table border=\"1\" class=\"dataframe\">\n",
       "  <thead>\n",
       "    <tr style=\"text-align: right;\">\n",
       "      <th></th>\n",
       "      <th>Paid Date</th>\n",
       "      <th>Order Number</th>\n",
       "      <th>First Name</th>\n",
       "      <th>Last Name</th>\n",
       "      <th>Full Name</th>\n",
       "      <th>Meta Category</th>\n",
       "      <th>Product Name</th>\n",
       "      <th>Transaction Amount</th>\n",
       "      <th>Seller Discount</th>\n",
       "      <th>Sales Discount</th>\n",
       "      <th>Delivery Fee</th>\n",
       "      <th>Other Discount</th>\n",
       "    </tr>\n",
       "  </thead>\n",
       "  <tbody>\n",
       "    <tr>\n",
       "      <th>0</th>\n",
       "      <td>20170724</td>\n",
       "      <td>201707240088517</td>\n",
       "      <td>elvride</td>\n",
       "      <td>aries</td>\n",
       "      <td>Elvride Aries</td>\n",
       "      <td>Babies/ Kids</td>\n",
       "      <td>Pineapple Hat Anak Ala Korea - 6M - 4Y - Unise...</td>\n",
       "      <td>300000</td>\n",
       "      <td>153000</td>\n",
       "      <td>10200.0</td>\n",
       "      <td>9000</td>\n",
       "      <td>0.0</td>\n",
       "    </tr>\n",
       "    <tr>\n",
       "      <th>1</th>\n",
       "      <td>20170701</td>\n",
       "      <td>201707018889790</td>\n",
       "      <td>BASIR</td>\n",
       "      <td>Ninuk</td>\n",
       "      <td>Basir Ninuk</td>\n",
       "      <td>Service/ Mokado</td>\n",
       "      <td>Pulsa BOLT 150.000</td>\n",
       "      <td>287800</td>\n",
       "      <td>68000</td>\n",
       "      <td>0.0</td>\n",
       "      <td>0</td>\n",
       "      <td>0.0</td>\n",
       "    </tr>\n",
       "    <tr>\n",
       "      <th>2</th>\n",
       "      <td>20170707</td>\n",
       "      <td>201707079264675</td>\n",
       "      <td>Citra</td>\n",
       "      <td>Ardi</td>\n",
       "      <td>Citra Ardi</td>\n",
       "      <td>Service/ Mokado</td>\n",
       "      <td>XTRA Combo 12X 6GB, 12bln</td>\n",
       "      <td>35000</td>\n",
       "      <td>0</td>\n",
       "      <td>700.0</td>\n",
       "      <td>0</td>\n",
       "      <td>0.0</td>\n",
       "    </tr>\n",
       "    <tr>\n",
       "      <th>3</th>\n",
       "      <td>20170720</td>\n",
       "      <td>201707209945714</td>\n",
       "      <td>Dian</td>\n",
       "      <td>Renaldi</td>\n",
       "      <td>Dian Renaldi</td>\n",
       "      <td>Fashion</td>\n",
       "      <td>Square Foldable Travel Bag / Tas Koper Luggage...</td>\n",
       "      <td>85000</td>\n",
       "      <td>0</td>\n",
       "      <td>5900.0</td>\n",
       "      <td>0</td>\n",
       "      <td>0.0</td>\n",
       "    </tr>\n",
       "    <tr>\n",
       "      <th>4</th>\n",
       "      <td>20170722</td>\n",
       "      <td>201707220002354</td>\n",
       "      <td>rizal</td>\n",
       "      <td>Tamba</td>\n",
       "      <td>Rizal Tamba</td>\n",
       "      <td>Gadget/ Komputer</td>\n",
       "      <td>Samsung Galaxy Note 5 Gold</td>\n",
       "      <td>81000</td>\n",
       "      <td>0</td>\n",
       "      <td>5600.0</td>\n",
       "      <td>0</td>\n",
       "      <td>0.0</td>\n",
       "    </tr>\n",
       "  </tbody>\n",
       "</table>\n",
       "</div>"
      ],
      "text/plain": [
       "   Paid Date     Order Number First Name Last Name      Full Name  \\\n",
       "0   20170724  201707240088517    elvride     aries  Elvride Aries   \n",
       "1   20170701  201707018889790      BASIR     Ninuk    Basir Ninuk   \n",
       "2   20170707  201707079264675      Citra      Ardi     Citra Ardi   \n",
       "3   20170720  201707209945714       Dian   Renaldi   Dian Renaldi   \n",
       "4   20170722  201707220002354      rizal     Tamba    Rizal Tamba   \n",
       "\n",
       "      Meta Category                                       Product Name  \\\n",
       "0      Babies/ Kids  Pineapple Hat Anak Ala Korea - 6M - 4Y - Unise...   \n",
       "1   Service/ Mokado                                 Pulsa BOLT 150.000   \n",
       "2   Service/ Mokado                          XTRA Combo 12X 6GB, 12bln   \n",
       "3           Fashion  Square Foldable Travel Bag / Tas Koper Luggage...   \n",
       "4  Gadget/ Komputer                         Samsung Galaxy Note 5 Gold   \n",
       "\n",
       "   Transaction Amount  Seller Discount  Sales Discount  Delivery Fee  \\\n",
       "0              300000           153000         10200.0          9000   \n",
       "1              287800            68000             0.0             0   \n",
       "2               35000                0           700.0             0   \n",
       "3               85000                0          5900.0             0   \n",
       "4               81000                0          5600.0             0   \n",
       "\n",
       "   Other Discount  \n",
       "0             0.0  \n",
       "1             0.0  \n",
       "2             0.0  \n",
       "3             0.0  \n",
       "4             0.0  "
      ]
     },
     "execution_count": 8,
     "metadata": {},
     "output_type": "execute_result"
    }
   ],
   "source": [
    "paid_transaction_df.head()"
   ]
  },
  {
   "cell_type": "markdown",
   "metadata": {},
   "source": [
    "## No. 2\n",
    "2. Tambahkan sebuah kolom setelah kolom “Seller Discount” dan beri nama kolom tersebut sebagai “GMV”. GMV adalah Gross Merchandise Value yang nilainya dihitung berdasarkan “Transaction Amount” dikurangi “Seller Discount” ditambah dengan “Delivery Fee”."
   ]
  },
  {
   "cell_type": "code",
   "execution_count": 9,
   "metadata": {},
   "outputs": [
    {
     "name": "stdout",
     "output_type": "stream",
     "text": [
      "<class 'pandas.core.frame.DataFrame'>\n",
      "RangeIndex: 12000 entries, 0 to 11999\n",
      "Data columns (total 12 columns):\n",
      " #   Column              Non-Null Count  Dtype  \n",
      "---  ------              --------------  -----  \n",
      " 0   Paid Date           12000 non-null  int64  \n",
      " 1   Order Number        12000 non-null  int64  \n",
      " 2   First Name          11996 non-null  object \n",
      " 3   Last Name           11996 non-null  object \n",
      " 4   Full Name           11992 non-null  object \n",
      " 5   Meta Category       12000 non-null  object \n",
      " 6   Product Name        12000 non-null  object \n",
      " 7   Transaction Amount  12000 non-null  int64  \n",
      " 8   Seller Discount     12000 non-null  int64  \n",
      " 9   Sales Discount      12000 non-null  float64\n",
      " 10  Delivery Fee        12000 non-null  int64  \n",
      " 11  Other Discount      12000 non-null  float64\n",
      "dtypes: float64(2), int64(5), object(5)\n",
      "memory usage: 1.1+ MB\n"
     ]
    }
   ],
   "source": [
    "paid_transaction_df.info()"
   ]
  },
  {
   "cell_type": "code",
   "execution_count": 10,
   "metadata": {},
   "outputs": [],
   "source": [
    "paid_transaction_df.insert(\n",
    "    9,\n",
    "    'GMV', \n",
    "    paid_transaction_df['Transaction Amount'] - paid_transaction_df['Seller Discount'] + paid_transaction_df['Delivery Fee']\n",
    "    )"
   ]
  },
  {
   "cell_type": "code",
   "execution_count": 11,
   "metadata": {},
   "outputs": [
    {
     "name": "stdout",
     "output_type": "stream",
     "text": [
      "13\n",
      "Index(['Paid Date', 'Order Number', 'First Name', 'Last Name', 'Full Name',\n",
      "       'Meta Category', 'Product Name', 'Transaction Amount',\n",
      "       'Seller Discount', 'GMV', 'Sales Discount', 'Delivery Fee',\n",
      "       'Other Discount'],\n",
      "      dtype='object')\n"
     ]
    }
   ],
   "source": [
    "print(len(paid_transaction_df.columns))\n",
    "print(paid_transaction_df.columns)"
   ]
  },
  {
   "cell_type": "code",
   "execution_count": 12,
   "metadata": {},
   "outputs": [
    {
     "data": {
      "text/html": [
       "<div>\n",
       "<style scoped>\n",
       "    .dataframe tbody tr th:only-of-type {\n",
       "        vertical-align: middle;\n",
       "    }\n",
       "\n",
       "    .dataframe tbody tr th {\n",
       "        vertical-align: top;\n",
       "    }\n",
       "\n",
       "    .dataframe thead th {\n",
       "        text-align: right;\n",
       "    }\n",
       "</style>\n",
       "<table border=\"1\" class=\"dataframe\">\n",
       "  <thead>\n",
       "    <tr style=\"text-align: right;\">\n",
       "      <th></th>\n",
       "      <th>Paid Date</th>\n",
       "      <th>Order Number</th>\n",
       "      <th>First Name</th>\n",
       "      <th>Last Name</th>\n",
       "      <th>Full Name</th>\n",
       "      <th>Meta Category</th>\n",
       "      <th>Product Name</th>\n",
       "      <th>Transaction Amount</th>\n",
       "      <th>Seller Discount</th>\n",
       "      <th>GMV</th>\n",
       "      <th>Sales Discount</th>\n",
       "      <th>Delivery Fee</th>\n",
       "      <th>Other Discount</th>\n",
       "    </tr>\n",
       "  </thead>\n",
       "  <tbody>\n",
       "    <tr>\n",
       "      <th>0</th>\n",
       "      <td>20170724</td>\n",
       "      <td>201707240088517</td>\n",
       "      <td>elvride</td>\n",
       "      <td>aries</td>\n",
       "      <td>Elvride Aries</td>\n",
       "      <td>Babies/ Kids</td>\n",
       "      <td>Pineapple Hat Anak Ala Korea - 6M - 4Y - Unise...</td>\n",
       "      <td>300000</td>\n",
       "      <td>153000</td>\n",
       "      <td>156000</td>\n",
       "      <td>10200.0</td>\n",
       "      <td>9000</td>\n",
       "      <td>0.0</td>\n",
       "    </tr>\n",
       "    <tr>\n",
       "      <th>1</th>\n",
       "      <td>20170701</td>\n",
       "      <td>201707018889790</td>\n",
       "      <td>BASIR</td>\n",
       "      <td>Ninuk</td>\n",
       "      <td>Basir Ninuk</td>\n",
       "      <td>Service/ Mokado</td>\n",
       "      <td>Pulsa BOLT 150.000</td>\n",
       "      <td>287800</td>\n",
       "      <td>68000</td>\n",
       "      <td>219800</td>\n",
       "      <td>0.0</td>\n",
       "      <td>0</td>\n",
       "      <td>0.0</td>\n",
       "    </tr>\n",
       "    <tr>\n",
       "      <th>2</th>\n",
       "      <td>20170707</td>\n",
       "      <td>201707079264675</td>\n",
       "      <td>Citra</td>\n",
       "      <td>Ardi</td>\n",
       "      <td>Citra Ardi</td>\n",
       "      <td>Service/ Mokado</td>\n",
       "      <td>XTRA Combo 12X 6GB, 12bln</td>\n",
       "      <td>35000</td>\n",
       "      <td>0</td>\n",
       "      <td>35000</td>\n",
       "      <td>700.0</td>\n",
       "      <td>0</td>\n",
       "      <td>0.0</td>\n",
       "    </tr>\n",
       "    <tr>\n",
       "      <th>3</th>\n",
       "      <td>20170720</td>\n",
       "      <td>201707209945714</td>\n",
       "      <td>Dian</td>\n",
       "      <td>Renaldi</td>\n",
       "      <td>Dian Renaldi</td>\n",
       "      <td>Fashion</td>\n",
       "      <td>Square Foldable Travel Bag / Tas Koper Luggage...</td>\n",
       "      <td>85000</td>\n",
       "      <td>0</td>\n",
       "      <td>85000</td>\n",
       "      <td>5900.0</td>\n",
       "      <td>0</td>\n",
       "      <td>0.0</td>\n",
       "    </tr>\n",
       "    <tr>\n",
       "      <th>4</th>\n",
       "      <td>20170722</td>\n",
       "      <td>201707220002354</td>\n",
       "      <td>rizal</td>\n",
       "      <td>Tamba</td>\n",
       "      <td>Rizal Tamba</td>\n",
       "      <td>Gadget/ Komputer</td>\n",
       "      <td>Samsung Galaxy Note 5 Gold</td>\n",
       "      <td>81000</td>\n",
       "      <td>0</td>\n",
       "      <td>81000</td>\n",
       "      <td>5600.0</td>\n",
       "      <td>0</td>\n",
       "      <td>0.0</td>\n",
       "    </tr>\n",
       "  </tbody>\n",
       "</table>\n",
       "</div>"
      ],
      "text/plain": [
       "   Paid Date     Order Number First Name Last Name      Full Name  \\\n",
       "0   20170724  201707240088517    elvride     aries  Elvride Aries   \n",
       "1   20170701  201707018889790      BASIR     Ninuk    Basir Ninuk   \n",
       "2   20170707  201707079264675      Citra      Ardi     Citra Ardi   \n",
       "3   20170720  201707209945714       Dian   Renaldi   Dian Renaldi   \n",
       "4   20170722  201707220002354      rizal     Tamba    Rizal Tamba   \n",
       "\n",
       "      Meta Category                                       Product Name  \\\n",
       "0      Babies/ Kids  Pineapple Hat Anak Ala Korea - 6M - 4Y - Unise...   \n",
       "1   Service/ Mokado                                 Pulsa BOLT 150.000   \n",
       "2   Service/ Mokado                          XTRA Combo 12X 6GB, 12bln   \n",
       "3           Fashion  Square Foldable Travel Bag / Tas Koper Luggage...   \n",
       "4  Gadget/ Komputer                         Samsung Galaxy Note 5 Gold   \n",
       "\n",
       "   Transaction Amount  Seller Discount     GMV  Sales Discount  Delivery Fee  \\\n",
       "0              300000           153000  156000         10200.0          9000   \n",
       "1              287800            68000  219800             0.0             0   \n",
       "2               35000                0   35000           700.0             0   \n",
       "3               85000                0   85000          5900.0             0   \n",
       "4               81000                0   81000          5600.0             0   \n",
       "\n",
       "   Other Discount  \n",
       "0             0.0  \n",
       "1             0.0  \n",
       "2             0.0  \n",
       "3             0.0  \n",
       "4             0.0  "
      ]
     },
     "execution_count": 12,
     "metadata": {},
     "output_type": "execute_result"
    }
   ],
   "source": [
    "paid_transaction_df.head()"
   ]
  },
  {
   "cell_type": "markdown",
   "metadata": {},
   "source": [
    "## No. 3\n",
    "\n",
    "3. Kelompokkan setiap Meta Category menjadi 2 group sesuai tabeldi bawah ini (hint: buat kolom tambahan yang berisi keterangan group 1 atau 2 sesuai Meta Category-nya). Buatlah DataFrame baru yang menyimpan pivot table dari DataFrame “Paid Transaction” di atas untuk menampilkan jumlah total nilai GMV per-bulan untuk setiap group.\n",
    "\n",
    "> Group 01\n",
    "\n",
    "> 1. Home/Food \n",
    "> 2. Sport/Hobi/Otomotif\n",
    "> 3. Fashion \n",
    "> 4. Beauty/Health\n",
    "\n",
    "> Group 2\n",
    "\n",
    "> 1. Gadget/ Komputer \n",
    "> 2. Elektronik \n",
    "> 3. Service/ Mokado \n",
    "> 4. Babies/ Kids"
   ]
  },
  {
   "cell_type": "code",
   "execution_count": 13,
   "metadata": {},
   "outputs": [
    {
     "name": "stdout",
     "output_type": "stream",
     "text": [
      "8\n",
      "['Babies/ Kids' 'Service/ Mokado' 'Fashion' 'Gadget/ Komputer'\n",
      " 'Beauty/ Health' 'Home/ Food' 'Sports/ Hobi/ Otomotif' 'Elektronik']\n"
     ]
    }
   ],
   "source": [
    "print(paid_transaction_df['Meta Category'].nunique())\n",
    "print(paid_transaction_df['Meta Category'].unique())"
   ]
  },
  {
   "cell_type": "code",
   "execution_count": 14,
   "metadata": {},
   "outputs": [],
   "source": [
    "def assign_group_no_category(meta_category):\n",
    "    group_1 = ['Home/ Food', 'Sports/ Hobi/ Otomotif', 'Fashion', 'Beauty/ Health']\n",
    "    group_2 = ['Elektronik', 'Gadget/ Komputer', 'Service/ Mokado', 'Babies/ Kids']\n",
    "\n",
    "    if meta_category in group_1:\n",
    "        return \"Group 1\"\n",
    "    elif meta_category in group_2:\n",
    "        return \"Group 2\"\n",
    "    else:\n",
    "        raise Exception(f\"Meta category {meta_category} not found in any group\")"
   ]
  },
  {
   "cell_type": "code",
   "execution_count": 15,
   "metadata": {},
   "outputs": [],
   "source": [
    "paid_transaction_df.insert(\n",
    "    6,\n",
    "    'group_no_category',\n",
    "    paid_transaction_df['Meta Category'].apply(assign_group_no_category)\n",
    "    )"
   ]
  },
  {
   "cell_type": "code",
   "execution_count": 16,
   "metadata": {},
   "outputs": [
    {
     "name": "stdout",
     "output_type": "stream",
     "text": [
      "14\n",
      "Index(['Paid Date', 'Order Number', 'First Name', 'Last Name', 'Full Name',\n",
      "       'Meta Category', 'group_no_category', 'Product Name',\n",
      "       'Transaction Amount', 'Seller Discount', 'GMV', 'Sales Discount',\n",
      "       'Delivery Fee', 'Other Discount'],\n",
      "      dtype='object')\n"
     ]
    }
   ],
   "source": [
    "print(len(paid_transaction_df.columns))\n",
    "print(paid_transaction_df.columns)"
   ]
  },
  {
   "cell_type": "code",
   "execution_count": 17,
   "metadata": {},
   "outputs": [],
   "source": [
    "paid_transaction_df.insert(\n",
    "    1,\n",
    "    'year', \n",
    "    paid_transaction_df['Paid Date'].apply(str).str[:4]\n",
    "    )\n",
    "paid_transaction_df.insert(\n",
    "    1,\n",
    "    'month', \n",
    "    paid_transaction_df['Paid Date'].apply(str).str[4:6]\n",
    "    )\n",
    "paid_transaction_df.insert(\n",
    "    1,\n",
    "    'day', \n",
    "    paid_transaction_df['Paid Date'].apply(str).str[6:]\n",
    "    )"
   ]
  },
  {
   "cell_type": "code",
   "execution_count": 18,
   "metadata": {},
   "outputs": [
    {
     "name": "stdout",
     "output_type": "stream",
     "text": [
      "31\n",
      "['24' '01' '07' '20' '22' '14' '03' '29' '06' '28' '08' '18' '21' '09'\n",
      " '02' '30' '31' '04' '11' '12' '17' '13' '25' '15' '05' '16' '23' '27'\n",
      " '26' '19' '10']\n",
      "6\n",
      "['07' '08' '09' '10' '11' '12']\n",
      "1\n",
      "['2017']\n"
     ]
    }
   ],
   "source": [
    "print(paid_transaction_df['day'].nunique())\n",
    "print(paid_transaction_df['day'].unique())\n",
    "print(paid_transaction_df['month'].nunique())\n",
    "print(paid_transaction_df['month'].unique())\n",
    "print(paid_transaction_df['year'].nunique())\n",
    "print(paid_transaction_df['year'].unique())"
   ]
  },
  {
   "cell_type": "code",
   "execution_count": 19,
   "metadata": {},
   "outputs": [
    {
     "data": {
      "text/html": [
       "<div>\n",
       "<style scoped>\n",
       "    .dataframe tbody tr th:only-of-type {\n",
       "        vertical-align: middle;\n",
       "    }\n",
       "\n",
       "    .dataframe tbody tr th {\n",
       "        vertical-align: top;\n",
       "    }\n",
       "\n",
       "    .dataframe thead th {\n",
       "        text-align: right;\n",
       "    }\n",
       "</style>\n",
       "<table border=\"1\" class=\"dataframe\">\n",
       "  <thead>\n",
       "    <tr style=\"text-align: right;\">\n",
       "      <th></th>\n",
       "      <th>Paid Date</th>\n",
       "      <th>day</th>\n",
       "      <th>month</th>\n",
       "      <th>year</th>\n",
       "      <th>Order Number</th>\n",
       "      <th>First Name</th>\n",
       "      <th>Last Name</th>\n",
       "      <th>Full Name</th>\n",
       "      <th>Meta Category</th>\n",
       "      <th>group_no_category</th>\n",
       "      <th>Product Name</th>\n",
       "      <th>Transaction Amount</th>\n",
       "      <th>Seller Discount</th>\n",
       "      <th>GMV</th>\n",
       "      <th>Sales Discount</th>\n",
       "      <th>Delivery Fee</th>\n",
       "      <th>Other Discount</th>\n",
       "    </tr>\n",
       "  </thead>\n",
       "  <tbody>\n",
       "    <tr>\n",
       "      <th>0</th>\n",
       "      <td>20170724</td>\n",
       "      <td>24</td>\n",
       "      <td>07</td>\n",
       "      <td>2017</td>\n",
       "      <td>201707240088517</td>\n",
       "      <td>elvride</td>\n",
       "      <td>aries</td>\n",
       "      <td>Elvride Aries</td>\n",
       "      <td>Babies/ Kids</td>\n",
       "      <td>Group 2</td>\n",
       "      <td>Pineapple Hat Anak Ala Korea - 6M - 4Y - Unise...</td>\n",
       "      <td>300000</td>\n",
       "      <td>153000</td>\n",
       "      <td>156000</td>\n",
       "      <td>10200.0</td>\n",
       "      <td>9000</td>\n",
       "      <td>0.0</td>\n",
       "    </tr>\n",
       "    <tr>\n",
       "      <th>1</th>\n",
       "      <td>20170701</td>\n",
       "      <td>01</td>\n",
       "      <td>07</td>\n",
       "      <td>2017</td>\n",
       "      <td>201707018889790</td>\n",
       "      <td>BASIR</td>\n",
       "      <td>Ninuk</td>\n",
       "      <td>Basir Ninuk</td>\n",
       "      <td>Service/ Mokado</td>\n",
       "      <td>Group 2</td>\n",
       "      <td>Pulsa BOLT 150.000</td>\n",
       "      <td>287800</td>\n",
       "      <td>68000</td>\n",
       "      <td>219800</td>\n",
       "      <td>0.0</td>\n",
       "      <td>0</td>\n",
       "      <td>0.0</td>\n",
       "    </tr>\n",
       "    <tr>\n",
       "      <th>2</th>\n",
       "      <td>20170707</td>\n",
       "      <td>07</td>\n",
       "      <td>07</td>\n",
       "      <td>2017</td>\n",
       "      <td>201707079264675</td>\n",
       "      <td>Citra</td>\n",
       "      <td>Ardi</td>\n",
       "      <td>Citra Ardi</td>\n",
       "      <td>Service/ Mokado</td>\n",
       "      <td>Group 2</td>\n",
       "      <td>XTRA Combo 12X 6GB, 12bln</td>\n",
       "      <td>35000</td>\n",
       "      <td>0</td>\n",
       "      <td>35000</td>\n",
       "      <td>700.0</td>\n",
       "      <td>0</td>\n",
       "      <td>0.0</td>\n",
       "    </tr>\n",
       "    <tr>\n",
       "      <th>3</th>\n",
       "      <td>20170720</td>\n",
       "      <td>20</td>\n",
       "      <td>07</td>\n",
       "      <td>2017</td>\n",
       "      <td>201707209945714</td>\n",
       "      <td>Dian</td>\n",
       "      <td>Renaldi</td>\n",
       "      <td>Dian Renaldi</td>\n",
       "      <td>Fashion</td>\n",
       "      <td>Group 1</td>\n",
       "      <td>Square Foldable Travel Bag / Tas Koper Luggage...</td>\n",
       "      <td>85000</td>\n",
       "      <td>0</td>\n",
       "      <td>85000</td>\n",
       "      <td>5900.0</td>\n",
       "      <td>0</td>\n",
       "      <td>0.0</td>\n",
       "    </tr>\n",
       "    <tr>\n",
       "      <th>4</th>\n",
       "      <td>20170722</td>\n",
       "      <td>22</td>\n",
       "      <td>07</td>\n",
       "      <td>2017</td>\n",
       "      <td>201707220002354</td>\n",
       "      <td>rizal</td>\n",
       "      <td>Tamba</td>\n",
       "      <td>Rizal Tamba</td>\n",
       "      <td>Gadget/ Komputer</td>\n",
       "      <td>Group 2</td>\n",
       "      <td>Samsung Galaxy Note 5 Gold</td>\n",
       "      <td>81000</td>\n",
       "      <td>0</td>\n",
       "      <td>81000</td>\n",
       "      <td>5600.0</td>\n",
       "      <td>0</td>\n",
       "      <td>0.0</td>\n",
       "    </tr>\n",
       "  </tbody>\n",
       "</table>\n",
       "</div>"
      ],
      "text/plain": [
       "   Paid Date day month  year     Order Number First Name Last Name  \\\n",
       "0   20170724  24    07  2017  201707240088517    elvride     aries   \n",
       "1   20170701  01    07  2017  201707018889790      BASIR     Ninuk   \n",
       "2   20170707  07    07  2017  201707079264675      Citra      Ardi   \n",
       "3   20170720  20    07  2017  201707209945714       Dian   Renaldi   \n",
       "4   20170722  22    07  2017  201707220002354      rizal     Tamba   \n",
       "\n",
       "       Full Name     Meta Category group_no_category  \\\n",
       "0  Elvride Aries      Babies/ Kids           Group 2   \n",
       "1    Basir Ninuk   Service/ Mokado           Group 2   \n",
       "2     Citra Ardi   Service/ Mokado           Group 2   \n",
       "3   Dian Renaldi           Fashion           Group 1   \n",
       "4    Rizal Tamba  Gadget/ Komputer           Group 2   \n",
       "\n",
       "                                        Product Name  Transaction Amount  \\\n",
       "0  Pineapple Hat Anak Ala Korea - 6M - 4Y - Unise...              300000   \n",
       "1                                 Pulsa BOLT 150.000              287800   \n",
       "2                          XTRA Combo 12X 6GB, 12bln               35000   \n",
       "3  Square Foldable Travel Bag / Tas Koper Luggage...               85000   \n",
       "4                         Samsung Galaxy Note 5 Gold               81000   \n",
       "\n",
       "   Seller Discount     GMV  Sales Discount  Delivery Fee  Other Discount  \n",
       "0           153000  156000         10200.0          9000             0.0  \n",
       "1            68000  219800             0.0             0             0.0  \n",
       "2                0   35000           700.0             0             0.0  \n",
       "3                0   85000          5900.0             0             0.0  \n",
       "4                0   81000          5600.0             0             0.0  "
      ]
     },
     "execution_count": 19,
     "metadata": {},
     "output_type": "execute_result"
    }
   ],
   "source": [
    "paid_transaction_df.head()"
   ]
  },
  {
   "cell_type": "code",
   "execution_count": 20,
   "metadata": {},
   "outputs": [],
   "source": [
    "pivot_table_df = pd.pivot_table(paid_transaction_df, values='GMV', index=['month', 'group_no_category'], columns=['year'], aggfunc=\"sum\")"
   ]
  },
  {
   "cell_type": "code",
   "execution_count": 21,
   "metadata": {},
   "outputs": [
    {
     "data": {
      "text/html": [
       "<div>\n",
       "<style scoped>\n",
       "    .dataframe tbody tr th:only-of-type {\n",
       "        vertical-align: middle;\n",
       "    }\n",
       "\n",
       "    .dataframe tbody tr th {\n",
       "        vertical-align: top;\n",
       "    }\n",
       "\n",
       "    .dataframe thead th {\n",
       "        text-align: right;\n",
       "    }\n",
       "</style>\n",
       "<table border=\"1\" class=\"dataframe\">\n",
       "  <thead>\n",
       "    <tr style=\"text-align: right;\">\n",
       "      <th></th>\n",
       "      <th>year</th>\n",
       "      <th>2017</th>\n",
       "    </tr>\n",
       "    <tr>\n",
       "      <th>month</th>\n",
       "      <th>group_no_category</th>\n",
       "      <th></th>\n",
       "    </tr>\n",
       "  </thead>\n",
       "  <tbody>\n",
       "    <tr>\n",
       "      <th rowspan=\"2\" valign=\"top\">07</th>\n",
       "      <th>Group 1</th>\n",
       "      <td>147724300</td>\n",
       "    </tr>\n",
       "    <tr>\n",
       "      <th>Group 2</th>\n",
       "      <td>230414100</td>\n",
       "    </tr>\n",
       "    <tr>\n",
       "      <th rowspan=\"2\" valign=\"top\">08</th>\n",
       "      <th>Group 1</th>\n",
       "      <td>94599100</td>\n",
       "    </tr>\n",
       "    <tr>\n",
       "      <th>Group 2</th>\n",
       "      <td>348790700</td>\n",
       "    </tr>\n",
       "    <tr>\n",
       "      <th rowspan=\"2\" valign=\"top\">09</th>\n",
       "      <th>Group 1</th>\n",
       "      <td>263786400</td>\n",
       "    </tr>\n",
       "    <tr>\n",
       "      <th>Group 2</th>\n",
       "      <td>191482700</td>\n",
       "    </tr>\n",
       "    <tr>\n",
       "      <th rowspan=\"2\" valign=\"top\">10</th>\n",
       "      <th>Group 1</th>\n",
       "      <td>114883100</td>\n",
       "    </tr>\n",
       "    <tr>\n",
       "      <th>Group 2</th>\n",
       "      <td>150263700</td>\n",
       "    </tr>\n",
       "    <tr>\n",
       "      <th rowspan=\"2\" valign=\"top\">11</th>\n",
       "      <th>Group 1</th>\n",
       "      <td>263329200</td>\n",
       "    </tr>\n",
       "    <tr>\n",
       "      <th>Group 2</th>\n",
       "      <td>326532200</td>\n",
       "    </tr>\n",
       "    <tr>\n",
       "      <th rowspan=\"2\" valign=\"top\">12</th>\n",
       "      <th>Group 1</th>\n",
       "      <td>131366800</td>\n",
       "    </tr>\n",
       "    <tr>\n",
       "      <th>Group 2</th>\n",
       "      <td>451421300</td>\n",
       "    </tr>\n",
       "  </tbody>\n",
       "</table>\n",
       "</div>"
      ],
      "text/plain": [
       "year                          2017\n",
       "month group_no_category           \n",
       "07    Group 1            147724300\n",
       "      Group 2            230414100\n",
       "08    Group 1             94599100\n",
       "      Group 2            348790700\n",
       "09    Group 1            263786400\n",
       "      Group 2            191482700\n",
       "10    Group 1            114883100\n",
       "      Group 2            150263700\n",
       "11    Group 1            263329200\n",
       "      Group 2            326532200\n",
       "12    Group 1            131366800\n",
       "      Group 2            451421300"
      ]
     },
     "execution_count": 21,
     "metadata": {},
     "output_type": "execute_result"
    }
   ],
   "source": [
    "pivot_table_df"
   ]
  },
  {
   "cell_type": "markdown",
   "metadata": {},
   "source": [
    "## No. 4\n",
    "Buatlah python statement untuk mencari Seller mana yang memiliki total nilai GMV paling tinggi di bulan Agustus 2017. (Hint: gunakan juga sheet “Seller”)"
   ]
  },
  {
   "cell_type": "code",
   "execution_count": 22,
   "metadata": {},
   "outputs": [],
   "source": [
    "paid_transaction_df_copy = paid_transaction_df.copy()"
   ]
  },
  {
   "cell_type": "code",
   "execution_count": 23,
   "metadata": {},
   "outputs": [],
   "source": [
    "paid_transaction_df_copy = paid_transaction_df_copy.join(seller_df.set_index('Order Number'), on='Order Number', validate='m:1')"
   ]
  },
  {
   "cell_type": "code",
   "execution_count": 24,
   "metadata": {},
   "outputs": [],
   "source": [
    "paid_transaction_df_copy = paid_transaction_df_copy[paid_transaction_df_copy['month'] == '08']"
   ]
  },
  {
   "cell_type": "code",
   "execution_count": 25,
   "metadata": {},
   "outputs": [],
   "source": [
    "paid_transaction_df_copy = paid_transaction_df_copy.filter(['GMV', 'Seller'])"
   ]
  },
  {
   "cell_type": "code",
   "execution_count": 26,
   "metadata": {},
   "outputs": [
    {
     "data": {
      "text/html": [
       "<div>\n",
       "<style scoped>\n",
       "    .dataframe tbody tr th:only-of-type {\n",
       "        vertical-align: middle;\n",
       "    }\n",
       "\n",
       "    .dataframe tbody tr th {\n",
       "        vertical-align: top;\n",
       "    }\n",
       "\n",
       "    .dataframe thead th {\n",
       "        text-align: right;\n",
       "    }\n",
       "</style>\n",
       "<table border=\"1\" class=\"dataframe\">\n",
       "  <thead>\n",
       "    <tr style=\"text-align: right;\">\n",
       "      <th></th>\n",
       "      <th>GMV</th>\n",
       "    </tr>\n",
       "    <tr>\n",
       "      <th>Seller</th>\n",
       "      <th></th>\n",
       "    </tr>\n",
       "  </thead>\n",
       "  <tbody>\n",
       "    <tr>\n",
       "      <th>MOBILEPULSA APP</th>\n",
       "      <td>127241500</td>\n",
       "    </tr>\n",
       "  </tbody>\n",
       "</table>\n",
       "</div>"
      ],
      "text/plain": [
       "                       GMV\n",
       "Seller                    \n",
       "MOBILEPULSA APP  127241500"
      ]
     },
     "execution_count": 26,
     "metadata": {},
     "output_type": "execute_result"
    }
   ],
   "source": [
    "paid_transaction_df_copy.groupby(by=[\"Seller\"]).sum().sort_values(by='GMV', ascending=False).head(1)"
   ]
  },
  {
   "cell_type": "markdown",
   "metadata": {},
   "source": [
    "## No. 5\n",
    "Buatlah python statement untuk mencari Seller mana yang memiliki banyaknya transaksi (count) paling banyak di bulan September 2017 khusus untuk Meta Category “Fashion”. (Hint: gunakan juga sheet “Seller”)\n"
   ]
  },
  {
   "cell_type": "code",
   "execution_count": 77,
   "metadata": {},
   "outputs": [],
   "source": [
    "paid_transaction_df_copy = paid_transaction_df.copy()"
   ]
  },
  {
   "cell_type": "code",
   "execution_count": 78,
   "metadata": {},
   "outputs": [],
   "source": [
    "paid_transaction_df_copy = paid_transaction_df_copy.join(seller_df.set_index('Order Number'), on='Order Number', validate='m:1')"
   ]
  },
  {
   "cell_type": "code",
   "execution_count": 79,
   "metadata": {},
   "outputs": [],
   "source": [
    "paid_transaction_df_copy = paid_transaction_df_copy[paid_transaction_df_copy['month'] == '09']\n",
    "paid_transaction_df_copy = paid_transaction_df_copy[paid_transaction_df_copy['Meta Category'] == 'Fashion']"
   ]
  },
  {
   "cell_type": "code",
   "execution_count": 80,
   "metadata": {},
   "outputs": [],
   "source": [
    "paid_transaction_df_copy = paid_transaction_df_copy.filter(['Order Number', 'Seller']).rename(columns={\"Seller\": \"Seller\", \"Order Number\": \"Total Transaction\"})"
   ]
  },
  {
   "cell_type": "code",
   "execution_count": 82,
   "metadata": {},
   "outputs": [
    {
     "data": {
      "text/html": [
       "<div>\n",
       "<style scoped>\n",
       "    .dataframe tbody tr th:only-of-type {\n",
       "        vertical-align: middle;\n",
       "    }\n",
       "\n",
       "    .dataframe tbody tr th {\n",
       "        vertical-align: top;\n",
       "    }\n",
       "\n",
       "    .dataframe thead th {\n",
       "        text-align: right;\n",
       "    }\n",
       "</style>\n",
       "<table border=\"1\" class=\"dataframe\">\n",
       "  <thead>\n",
       "    <tr style=\"text-align: right;\">\n",
       "      <th></th>\n",
       "      <th>Total Transaction</th>\n",
       "    </tr>\n",
       "    <tr>\n",
       "      <th>Seller</th>\n",
       "      <th></th>\n",
       "    </tr>\n",
       "  </thead>\n",
       "  <tbody>\n",
       "    <tr>\n",
       "      <th>tokoaqila</th>\n",
       "      <td>31</td>\n",
       "    </tr>\n",
       "  </tbody>\n",
       "</table>\n",
       "</div>"
      ],
      "text/plain": [
       "           Total Transaction\n",
       "Seller                      \n",
       "tokoaqila                 31"
      ]
     },
     "execution_count": 82,
     "metadata": {},
     "output_type": "execute_result"
    }
   ],
   "source": [
    "paid_transaction_df_copy.groupby(by=[\"Seller\"]).count().sort_values(by='Total Transaction', ascending=False).head(1)"
   ]
  },
  {
   "cell_type": "code",
   "execution_count": null,
   "metadata": {},
   "outputs": [],
   "source": []
  }
 ],
 "metadata": {
  "kernelspec": {
   "display_name": ".venv",
   "language": "python",
   "name": "python3"
  },
  "language_info": {
   "codemirror_mode": {
    "name": "ipython",
    "version": 3
   },
   "file_extension": ".py",
   "mimetype": "text/x-python",
   "name": "python",
   "nbconvert_exporter": "python",
   "pygments_lexer": "ipython3",
   "version": "3.9.6"
  }
 },
 "nbformat": 4,
 "nbformat_minor": 2
}
